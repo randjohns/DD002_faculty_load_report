{
 "cells": [
  {
   "cell_type": "markdown",
   "metadata": {},
   "source": [
    "# Faculty Load Report\n",
    "\n",
    "SWU uses Jenzabar as our Student Information System (SIS) and each semester I use the SQL Server Reporting Services (SSRS) pre-created reports to pull data to calculate faculty load in preparation for payroll. The process of preparting load and payroll takes about a week's worth of work cleaning data from the SSRS reports, coordinating with faculty and chairs, and double/triple checking things with payroll. So, in the spirit of automation, I thought that I'd share this Python load report creator since it has greatly helped me reduce the time spent in preparting loads while also minimizing data entry and manipulation errors due to manually adjusting Excel spreadsheets (the old way!).\n",
    "\n",
    "Enjoy!\n",
    "\n",
    "rJb\n"
   ]
  },
  {
   "cell_type": "code",
   "execution_count": null,
   "metadata": {},
   "outputs": [],
   "source": [
    "import pandas as pd\n",
    "\n",
    "# insert a new csv file name as needed each time the SSRS report is created with fresh course information\n",
    "courses = pd.read_csv('Fall_as_of_8-18-20.csv')\n",
    "\n",
    "# courses # uncomment this line to display the data set\n",
    "\n",
    "print('There are', courses.shape[0], 'rows by', courses.shape[1], 'columns in the unfiltered data set.')\n",
    "total_len = courses.shape[0]"
   ]
  },
  {
   "cell_type": "markdown",
   "metadata": {},
   "source": [
    "# Cancelled Courses\n",
    "\n",
    "Display courses that have been cancelled and then remove from the data set."
   ]
  },
  {
   "cell_type": "code",
   "execution_count": null,
   "metadata": {},
   "outputs": [],
   "source": [
    "cancelled_courses = courses[courses['Cancelled'] == 'Cancelled'].copy()\n",
    "\n",
    "# print(cancelled_courses['Title'].unique()) # uncomment to display list of cancelled courses\n",
    "\n",
    "print('\\n', len(cancelled_courses), 'cancelled courses')"
   ]
  },
  {
   "cell_type": "code",
   "execution_count": null,
   "metadata": {},
   "outputs": [],
   "source": [
    "# remove cancelled courses from data set\n",
    "courses = courses[courses['Cancelled'] != 'Cancelled']\n",
    "\n",
    "print('There are now', courses.shape[0], 'courses listed after the canceled courses are filtered out.')\n",
    "\n",
    "if total_len - len(cancelled_courses) == courses.shape[0]:\n",
    "    print('\\n Verified: the data set was filtered correctly.')\n",
    "else:\n",
    "    print('\\n Error: the data set was not filtered properly.')\n",
    "\n",
    "courses # uncomment to print the dataset"
   ]
  },
  {
   "cell_type": "markdown",
   "metadata": {},
   "source": [
    "# Locate Specific School or College Courses\n",
    "\n",
    "There are three distinct Schools/Colleges at SWU, each with supervision over three broad academic areas ranging from business, education, to arts and sciences. Within each area there are numerous subject areas taught, each indicated with a four-letter subject prefix such as \"ENGL\" (English), or \"ACCT\" (Accounting), or \"EDUC\" (Education).\n",
    "\n",
    "## Subjects\n",
    "\n",
    "Since the 'Course' column contains not only subject prefixes, but also four-digit course numbers and two-letter plus two-digit teaching modality and section number information, we will copy subject prefix information from the 'Course' column and create a new column called 'Subject'."
   ]
  },
  {
   "cell_type": "code",
   "execution_count": null,
   "metadata": {},
   "outputs": [],
   "source": [
    "# create a list, 'subjects', of all course prefixes\n",
    "subjects = courses['Course'].str.split(' ').str.get(0)\n",
    "\n",
    "print(subjects.unique()) # uncomment to display all subject prefixes\n",
    "\n",
    "# add the 'subjects' list to the 'courses' data set as a new column called 'Subject' at position 3\n",
    "courses.insert(3, 'Subject', subjects)\n",
    "\n",
    "courses"
   ]
  },
  {
   "cell_type": "markdown",
   "metadata": {},
   "source": [
    "Now we have a complete set of all courses with a new subject column next to the 'Course' column.\n",
    "\n",
    "## Modality\n",
    "\n",
    "We are almost all set to begin analysis, but notice that the 'Location' column only contains two codes: 'MC' (main campus) and 'ON' (online). Now that SWU has expanded our modalities to include additional hybrid 'HY', online traditional 'OT' options, we need to create a new column that clearly labels the modality. Modality information already exists for each course within the last two characters of the 'Course' column, so we'll start by extracting that information."
   ]
  },
  {
   "cell_type": "code",
   "execution_count": null,
   "metadata": {},
   "outputs": [],
   "source": [
    "# create a list of each course's modality\n",
    "modalities = courses['Course'].str.split(' ').str.get(2)\n",
    "\n",
    "# insert a new column, 'Modality' in position 5\n",
    "courses.insert(5, 'Modality', modalities)\n",
    "\n",
    "# show the unique values of modality\n",
    "print(modalities.unique())\n",
    "\n",
    "courses"
   ]
  },
  {
   "cell_type": "markdown",
   "metadata": {},
   "source": [
    "As can be seen in the list above, many modalities match the pattern of two letters to indicate: hybrid 'HY', online 'ON', face-to-face 'FF', and online traditional 'OT'--followed by two numbers to indicate the section number of the course if there are multiple sections of the same course.\n",
    "\n",
    "However, there are several other codes mixed into this list. 'OL' refers to the One Life program, but we'll go ahead and include this in the load report since SWU faculty sometimes teach in One Life as well and this should be considered when studying faculty loads.\n",
    "\n",
    "Other codes warrant further consideration: any code starting single letter and ending with three numbers is an off-site dual enrollment course. These we'll consider along with all other codes except lunch codes added by Academic Records. These are coded under the Associate Registrar's name, so we can keep them in the data set and separate them according to her name."
   ]
  },
  {
   "cell_type": "markdown",
   "metadata": {},
   "source": [
    "# Faculty Load by School/College\n",
    "\n",
    "The concept of facutly load applied to full-time faculty within the respective SWU academic units. So we'll calculate faculty load for each unit based on the directory of full-time faculty within each area.\n",
    "\n",
    "- Note: later on, we will have to calculate payroll using a different strategy build on course subject prefixes because each academic unit \"owns\" certain subjects and must pay the faculty teaching them regardless of where the faculty are housed or if they are full-time or part-time.\n"
   ]
  },
  {
   "cell_type": "code",
   "execution_count": null,
   "metadata": {},
   "outputs": [],
   "source": [
    "# create a list of course prefixes overseen by CAS\n",
    "cas_prefixes = ['ASTH', 'BIBL', 'BIOL', 'CHEM', 'COMM', 'CPSC', 'CRJS', \n",
    " 'ENGL', 'EXSC', 'FRSC', 'HIST', 'MATH',  'ML', 'MUSC',  'PHED', 'PHSC', 'PHYS', 'PSYC', 'RECR', 'RELG', 'RSCH', 'SEMR',\n",
    " 'SOSC', 'STAT']\n",
    "\n",
    "# verify the length of the list of subject prefixes\n",
    "print(len(cas_prefixes))"
   ]
  },
  {
   "cell_type": "code",
   "execution_count": null,
   "metadata": {},
   "outputs": [],
   "source": [
    "# Pull out course, title, modality, enrollment, under a header for each faculty member\n",
    "cols_needed = ['email_address','Title','Course','Course_Enrollment','Credit_Hours','Modality']\n",
    "\n",
    "# create a new dataframe, \"load\", containing only the columns needed for faculty in the CAS faculty list\n",
    "#alternate code# load = courses.loc[courses['email_address'].isin(cas_faculty), cols_needed]\n",
    "load = courses.loc[courses['Subject'].isin(cas_prefixes), cols_needed]\n",
    "\n",
    "# create a list of preferred sort categories and then sort\n",
    "cols_sort = ['email_address','Course_Enrollment']\n",
    "load = load.sort_values(cols_sort)\n",
    "\n",
    "load.head(30)"
   ]
  },
  {
   "cell_type": "markdown",
   "metadata": {},
   "source": [
    "From this point forward in the faculty load calculations, note that only college-specific subject prefixes are included in these calculations."
   ]
  },
  {
   "cell_type": "code",
   "execution_count": null,
   "metadata": {},
   "outputs": [],
   "source": [
    "# calculate the load for each course based on enrollment and course type; add a new 'load' column\n",
    "load['Faculty_Load'] = load['Credit_Hours']\n",
    "\n",
    "# create a Boolean mask to ID directed studies based on their unique Modality code\n",
    "dir_study = load['Modality'].str.contains('000')\n",
    "\n",
    "# set load to zero because DS courses are not part of load\n",
    "load.loc[dir_study, 'Faculty_Load'] = 0 \n",
    "\n",
    "# calculate pay for each directed study according to $150 per credit taken by each student\n",
    "load.loc[dir_study, 'Overload_Pay'] = load.loc[dir_study, 'Course_Enrollment'] * load.loc[dir_study, 'Credit_Hours'] * 150\n",
    "\n",
    "load.loc[dir_study]"
   ]
  },
  {
   "cell_type": "markdown",
   "metadata": {},
   "source": [
    "As we can see above there are a handful of anticipated directed study courses (as in any semester). These represent courses that were originally planned as directed study courses. However, there are some courses each semester that we hope would fully populate with students (defined as five or more students), but do not meet sufficient enrollment and must be cancelled or counted as directed study courses. So, next, we'll identify courses that need to be converted into directed study courses and paid as such."
   ]
  },
  {
   "cell_type": "code",
   "execution_count": null,
   "metadata": {},
   "outputs": [],
   "source": [
    "# create a Boolean mask to ID courses to convert to directed studies based on their low enrollment\n",
    "conv_dir_study = load['Course_Enrollment'] < 5\n",
    "\n",
    "# set load to zero because DS courses are not part of load\n",
    "load.loc[conv_dir_study, 'Modality'] = 'low_enroll' \n",
    "\n",
    "# display the courses that were flagged as low enrollment\n",
    "load.loc[load['Modality'] == 'low_enroll']\n",
    "\n",
    "## alternate code for forcibly adjusting loads\n",
    "## set load to zero because DS courses are not part of load\n",
    "#load.loc[conv_dir_study, 'Faculty_Load'] = 0\n",
    "\n",
    "## display the courses that were newly adjusted to zero load\n",
    "#load.loc[(load['Faculty_Load'] == 0) & (load['Course_Enrollment'] < 4) & (load['Overload_Pay'].isnull())]"
   ]
  },
  {
   "cell_type": "markdown",
   "metadata": {},
   "source": [
    "\n",
    "\n",
    "We've made major adjustments to the 'load' dataset according to small enrollment courses, but we must consider that there are an assortment of applied lessons, internships/residencies, in addition to small courses.\n",
    "\n",
    "- Applied lessons will be calculated as part of load because they are fee supported. They also must be calculated manually because this particular SSRS report does not pull the credit hour data per each student. Applied lessons students may enroll in 1 or 2 credit hours. So, we'll 1) calculate the faculty load as best we can, but then 2) mark applied lessons with a code 'approx' to flag them for later calculations.\n"
   ]
  },
  {
   "cell_type": "code",
   "execution_count": null,
   "metadata": {},
   "outputs": [],
   "source": [
    "# Identify Applied Lessons and change 'Modality' label to \"applied\"\n",
    "load.loc[(load['Title'].str.contains('Freshman')) & (load['Course'].str.contains('MUSC')), 'Modality'] = 'applied'\n",
    "load.loc[(load['Title'].str.contains('Sophomore')) & (load['Course'].str.contains('MUSC')), 'Modality'] = 'applied'\n",
    "load.loc[(load['Title'].str.contains('Junior')) & (load['Course'].str.contains('MUSC')), 'Modality'] = 'applied'\n",
    "load.loc[(load['Title'].str.contains('Senior')) & (load['Course'].str.contains('MUSC')), 'Modality'] = 'applied'\n",
    "\n",
    "# Identify and grant load for Diction Lab which is a special case mentioned in the faculty handbook (FHB)\n",
    "load.loc[(load['Title'].str.contains('Diction')) & (load['Course'].str.contains('MUSC')), 'Faculty_Load'] = 1\n",
    "\n",
    "\n",
    "# make a Boolean mask for applied lessons\n",
    "applied_bool = load['Modality'] == 'applied'\n",
    "\n",
    "# caluclate an approximate faculty load by multiplying enrollment by credit hours by 1/3 (studio load adjustment)\n",
    "load.loc[applied_bool, 'Faculty_Load'] = load.loc[applied_bool, 'Course_Enrollment'] * load.loc[applied_bool, 'Credit_Hours'] * 1/3\n",
    "load.loc[applied_bool, 'Comments'] = 'approx' \n",
    "load.loc[load['Comments'] == 'approx']"
   ]
  },
  {
   "cell_type": "markdown",
   "metadata": {},
   "source": [
    "- Internships, residencies, and practica may have 1 to many students and must be calculated manually entirely because students can take such a broad range of credit hours. We'll mark these as 'manual' in the comments column."
   ]
  },
  {
   "cell_type": "code",
   "execution_count": null,
   "metadata": {},
   "outputs": [],
   "source": [
    "# Identify Internships, Practica, and Residencies and change 'Modality' label to \"practicum\"\n",
    "load.loc[(load['Title'].str.contains('Internship')), 'Modality'] = 'practicum'\n",
    "load.loc[(load['Title'].str.contains('Residency')), 'Modality'] = 'practicum'\n",
    "load.loc[(load['Title'].str.contains('Practicum')), 'Modality'] = 'practicum'\n",
    "\n",
    "# make a Boolean mask for applied lessons\n",
    "practicum_bool = load['Modality'] == 'practicum'\n",
    "\n",
    "print(load[practicum_bool].shape)\n",
    "load[practicum_bool]"
   ]
  },
  {
   "cell_type": "markdown",
   "metadata": {},
   "source": [
    "Now, we have also marked internship, practica, residency courses as \"practicum\" in the 'Modality' column--so we have the irregular load calculations of 'applied' and 'practicum' earmarked for further manual calculations as this load goes to payroll."
   ]
  },
  {
   "cell_type": "markdown",
   "metadata": {},
   "source": [
    "# Load Releases\n",
    "\n",
    "Numerous faculty have load releases for a variety of reasons, including administrative duties or special projects. Next, we'll concatenate the load release information into the overall load report."
   ]
  },
  {
   "cell_type": "code",
   "execution_count": null,
   "metadata": {},
   "outputs": [],
   "source": [
    "# open a load release csv and read into a dataframe called 'releases'\n",
    "releases = pd.read_csv('load_releases_cas_2021.csv')\n",
    "\n",
    "# concatenate the load report and releases into a total load report\n",
    "tot_load = pd.concat([load, releases], ignore_index=True)\n",
    "tot_load"
   ]
  },
  {
   "cell_type": "markdown",
   "metadata": {},
   "source": [
    "The load release information has been concatenated with the load data set. The 'email_address' columns and 'Faculty_Load' are in common and neatly line up in this new 'tot_load' data set."
   ]
  },
  {
   "cell_type": "code",
   "execution_count": null,
   "metadata": {},
   "outputs": [],
   "source": [
    "# use this optional export to Excel to test and validate the produced load report. Replace XXXX with the desired filename\n",
    "tot_load.to_excel('load_report.xlsx')"
   ]
  },
  {
   "cell_type": "markdown",
   "metadata": {},
   "source": [
    "First we'll create and overview of load per faculty member using a pivot table:"
   ]
  },
  {
   "cell_type": "code",
   "execution_count": null,
   "metadata": {},
   "outputs": [],
   "source": [
    "import numpy as np\n",
    "pv_load = tot_load.pivot_table(values=['Course_Enrollment', 'Faculty_Load'], index='email_address', aggfunc=[np.mean, np.sum], margins=True)\n",
    "pv_load\n",
    "pv_load.to_excel('load_summary.xlsx')\n",
    "\n",
    "# create a list of CAS faculty using email addresses (less prone to formatting differences than full name)\n",
    "cas_faculty = ['enter email addresses here as a list'] #enter emails here as a list\n",
    "\n",
    "tot_load_ft = tot_load[tot_load['email_address'].isin(cas_faculty)]\n",
    "pv_load_ft = tot_load_ft.pivot_table(values=['Course_Enrollment', 'Faculty_Load'], index='email_address', aggfunc=[np.mean, np.sum], margins=True)\n",
    "pv_load_ft.to_excel('load_summary_ft.xlsx')\n"
   ]
  },
  {
   "cell_type": "markdown",
   "metadata": {},
   "source": [
    "The two files above 'load_report' and 'load_summary' give us all we need to complete the final load calculations manually. Part of the manual process is to double check this automated process, but also the incoming data available from the SSRS SQL report is currently limited for certain courses such as applied lessons, internships, practica. So, we'll need to check those courses flagged in the 'load_report'.\n"
   ]
  }
 ],
 "metadata": {
  "kernelspec": {
   "display_name": "Python 3",
   "language": "python",
   "name": "python3"
  },
  "language_info": {
   "codemirror_mode": {
    "name": "ipython",
    "version": 3
   },
   "file_extension": ".py",
   "mimetype": "text/x-python",
   "name": "python",
   "nbconvert_exporter": "python",
   "pygments_lexer": "ipython3",
   "version": "3.7.6"
  }
 },
 "nbformat": 4,
 "nbformat_minor": 4
}
